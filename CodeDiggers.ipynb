{
  "nbformat": 4,
  "nbformat_minor": 0,
  "metadata": {
    "colab": {
      "name": "CodeDiggers.ipynb",
      "provenance": [],
      "collapsed_sections": [],
      "mount_file_id": "12ziDXleFtQCLr6jfMfm4rKltPrffDqGV",
      "authorship_tag": "ABX9TyOUIw8cr+2kSNOss2WzT8gT",
      "include_colab_link": true
    },
    "kernelspec": {
      "name": "python3",
      "display_name": "Python 3"
    },
    "language_info": {
      "name": "python"
    }
  },
  "cells": [
    {
      "cell_type": "markdown",
      "metadata": {
        "id": "view-in-github",
        "colab_type": "text"
      },
      "source": [
        "<a href=\"https://colab.research.google.com/github/farooqhammad/Hack4Impact/blob/main/CodeDiggers.ipynb\" target=\"_parent\"><img src=\"https://colab.research.google.com/assets/colab-badge.svg\" alt=\"Open In Colab\"/></a>"
      ]
    },
    {
      "cell_type": "markdown",
      "metadata": {
        "id": "5TM2F3VUHnvY"
      },
      "source": [
        "# Importing Libraries"
      ]
    },
    {
      "cell_type": "code",
      "metadata": {
        "colab": {
          "base_uri": "https://localhost:8080/"
        },
        "id": "h3x69YfMHtcs",
        "outputId": "9b4eb775-2e08-4769-b1a8-a88c8e04089f"
      },
      "source": [
        "import os\n",
        "import numpy as np\n",
        "from google.colab import drive\n",
        "drive.mount('/content/drive')"
      ],
      "execution_count": 21,
      "outputs": [
        {
          "output_type": "stream",
          "text": [
            "Drive already mounted at /content/drive; to attempt to forcibly remount, call drive.mount(\"/content/drive\", force_remount=True).\n"
          ],
          "name": "stdout"
        }
      ]
    },
    {
      "cell_type": "markdown",
      "metadata": {
        "id": "nZ4TLPJ1zoWh"
      },
      "source": [
        "# Student Class"
      ]
    },
    {
      "cell_type": "code",
      "metadata": {
        "id": "LtBfMLwPOKXQ"
      },
      "source": [
        "def LastTwoDigits(n):\n",
        "    return float(str(n)[-3:]) if '.' in str(n)[-2:] else int(str(n)[-2:])\n",
        "\n",
        "nStudents = 80\n",
        "\n",
        "class Student():\n",
        "  #Initializers\n",
        "  def __init__(self):\n",
        "    self.ID = -1\n",
        " \n",
        "  #Setters\n",
        "  def setName(self, arg1, arg2):\n",
        "    self.fName = arg1\n",
        "    self.lName = arg2\n",
        "  def setAdmissionYear(self, arg1):\n",
        "    self.Year = arg1\n",
        "  def setProgram(self, arg1):\n",
        "    self.Program = arg1\n",
        "  def setRegNumber(self, arg1):\n",
        "    self.regNumber = arg1\n",
        "\n",
        "  def AddStudent(self, FirstNam, LastNam, AdmYear, Progr, regNo):\n",
        "    self.fName = FirstNam\n",
        "    self.lName = LastNam\n",
        "    self.Year = AdmYear\n",
        "    self.Program = Progr\n",
        "    self.regNumber = str(regNo)\n",
        "    if len(str(regNo))==1:\n",
        "      self.ID = self.Program + str(LastTwoDigits(self.Year)) +'00'+self.regNumber\n",
        "    else:\n",
        "      self.ID = self.Program + str(LastTwoDigits(self.Year)) +'0'+self.regNumber\n",
        "\n",
        "  #Getters\n",
        "  def getID(self):\n",
        "\t  return self.ID\n",
        "  def getName(self):\n",
        "\t  return ('self.fName + self.lName')\n",
        "  def getProgram(self):\n",
        "\t  return self.Program\n",
        "  def getYear(self):\n",
        "\t  return self.Year\n",
        "\n",
        "  #Functions\n",
        "  def displayStudent(self):\n",
        "    if self.ID != -1:\n",
        "      print(\"STUDENT DETAILS: \", '\\n', \"- NAME : \", self.fName, self.lName, '\\n', \"- ID   : \", self.ID, '\\n')\n",
        "\n",
        "def searchStudent(S, reg):\n",
        "  for i in range(0,nStudents):\n",
        "    if (S[i].getID() == str(reg)):\n",
        "      return True\n",
        "    else:\n",
        "      return False\n",
        "\n",
        "def TotalStudents(S):\n",
        "\tcounter = 0;\n",
        "\tfor i in range(0,nStudents):\n",
        "\t\tif (S[i].getID() != -1):\n",
        "\t\t\tcounter=counter+1\n",
        "\treturn counter"
      ],
      "execution_count": 22,
      "outputs": []
    },
    {
      "cell_type": "markdown",
      "metadata": {
        "id": "dKaZ8PQAztxB"
      },
      "source": [
        "# UI"
      ]
    },
    {
      "cell_type": "markdown",
      "metadata": {
        "id": "kaIqfLamFFZz"
      },
      "source": [
        "Initialize Class Array"
      ]
    },
    {
      "cell_type": "code",
      "metadata": {
        "id": "q7MRvy2P6lIg"
      },
      "source": [
        "BSEE = [Student() for i in range(80)]\n",
        "result = []\n",
        "countReg = 1"
      ],
      "execution_count": 23,
      "outputs": []
    },
    {
      "cell_type": "code",
      "metadata": {
        "colab": {
          "base_uri": "https://localhost:8080/"
        },
        "id": "n8BjNyifm3Ud",
        "outputId": "72d792d7-e317-46aa-c97e-779570744803"
      },
      "source": [
        "print('Welcome to STUDENT FACILITATION PORTAl \\n')\n",
        "while 1:\n",
        "  os.system('cls')\n",
        "  temp = input(\"1: LOG IN \\n2: SIGN UP (ADMIN ONLY) \\n3: EXIT\\n\")\n",
        "  if temp.isdigit():\n",
        "    if int(temp) == 1:\n",
        "      string = input(\"Registration Number: \")\n",
        "      if searchStudent(BSEE, string):\n",
        "        print(\"\\nUser Found!\\n\")\n",
        "        option = input(\"\\n1: TRANSCRIPT\\n2: STUDENT LOAN \\n3: GO BACK\\n\")\n",
        "        if option.isdigit():\n",
        "          if int(option) == 1:\n",
        "            print(\"TRANSCRIPT LOADING...\\n\")\n",
        "            #DISPLAY TRANSCRIPT!!\n",
        "          elif int(option) == 2:\n",
        "            print(\"STUDENT LOAN PORTAL:\")\n",
        "            money = int(input(\"Amout: \"))\n",
        "            reason = input(\"Please state the reason of appling for Student Loan: \")\n",
        "            loan = string+' has applied for a loan of '+money+ ' due to the following reason: \\n'+reason\n",
        "            print(loan)\n",
        "            print('\\nYour request has been sent to the Administration! \\nPlease wait for their reply!\\n')\n",
        "            #SEND EMAIL TO ADMIN!!\n",
        "          elif int(option) == 3: \n",
        "            continue\n",
        "          else:\n",
        "            print(\"Invalid Input!\")\n",
        "        else:\n",
        "          print('\\nInvalid Input! \\nPlease enter an Integer..\\n')\n",
        "      else:\n",
        "        print(\"\\nNo User Found!\\n\")\n",
        "    elif int(temp) == 2:\n",
        "      passw = int(input(\"ADMIN PASSWORD: \"))\n",
        "      if passw == 12345:\n",
        "        FName = input(\"First Name: \")\n",
        "        LName = input(\"Last Name: \")\n",
        "        Year = int(input(\"Year of Admission: \"))\n",
        "        Degree = input(\"Degree Program: \")\n",
        "        BSEE[TotalStudents(BSEE)].AddStudent(FName, LName, Year, Degree, countReg)\n",
        "        print('\\nYour Registration Number is: ', BSEE[TotalStudents(BSEE)-1].ID, '\\n-SIGNED UP Sucessfully!\\n')\n",
        "        tempStr = FName+' '+LName+' - '+str(Year)+' - '+Degree+' - '+BSEE[TotalStudents(BSEE)-1].ID\n",
        "        result.insert(TotalStudents(BSEE)-1, tempStr)\n",
        "        print(result)\n",
        "        #np.savetxt('/content/drive/MyDrive/Colab Notebooks/CodeDiggers/StudentInfo.csv', result, delimiter=',')\n",
        "        countReg = countReg+1\n",
        "      else:\n",
        "        print('Wrong Password! \\nTry again..\\n')\n",
        "    elif int(temp) == 3:\n",
        "      print(\"\\nHave a Good Day!\\n\")\n",
        "      break\n",
        "    else:\n",
        "      print('\\nInvalid Input! \\nTry again..\\n')\n",
        "  else:\n",
        "    print('\\nInvalid Input! \\nPlease enter an Integer..\\n')"
      ],
      "execution_count": 24,
      "outputs": [
        {
          "output_type": "stream",
          "text": [
            "Welcome to STUDENT FACILITATION PORTAl \n",
            "\n",
            "1: LOG IN \n",
            "2: SIGN UP (ADMIN ONLY) \n",
            "3: EXIT\n",
            "3\n",
            "\n",
            "Have a Good Day!\n",
            "\n"
          ],
          "name": "stdout"
        }
      ]
    },
    {
      "cell_type": "code",
      "metadata": {
        "id": "4i5rU9qNbbq3"
      },
      "source": [
        "for i in range(0,nStudents):\n",
        "  BSEE[i].displayStudent()"
      ],
      "execution_count": 25,
      "outputs": []
    }
  ]
}